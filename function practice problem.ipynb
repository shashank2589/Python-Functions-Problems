{
 "cells": [
  {
   "cell_type": "code",
   "execution_count": 2,
   "id": "ff82af9e",
   "metadata": {},
   "outputs": [],
   "source": [
    "# write a function which will try to find out length of string without using len function"
   ]
  },
  {
   "cell_type": "code",
   "execution_count": 3,
   "id": "0fbb564d",
   "metadata": {},
   "outputs": [
    {
     "data": {
      "text/plain": [
       "5"
      ]
     },
     "execution_count": 3,
     "metadata": {},
     "output_type": "execute_result"
    }
   ],
   "source": [
    "len(\"sunny\")"
   ]
  },
  {
   "cell_type": "code",
   "execution_count": 1,
   "id": "a8664a38",
   "metadata": {},
   "outputs": [],
   "source": [
    "def test(s):\n",
    "    \"\"\"this is a prog which will help to find a length of string\"\"\"\n",
    "    count = 0 # create variable\n",
    "    for i in s:\n",
    "        #if type(i) == str:\n",
    "            count = count + 1\n",
    "    return count"
   ]
  },
  {
   "cell_type": "code",
   "execution_count": 2,
   "id": "9ddf2702",
   "metadata": {},
   "outputs": [
    {
     "data": {
      "text/plain": [
       "5"
      ]
     },
     "execution_count": 2,
     "metadata": {},
     "output_type": "execute_result"
    }
   ],
   "source": [
    "test('sunny')"
   ]
  },
  {
   "cell_type": "code",
   "execution_count": 3,
   "id": "6f37e7e2",
   "metadata": {},
   "outputs": [
    {
     "data": {
      "text/plain": [
       "8"
      ]
     },
     "execution_count": 3,
     "metadata": {},
     "output_type": "execute_result"
    }
   ],
   "source": [
    "test('shashank')"
   ]
  },
  {
   "cell_type": "code",
   "execution_count": 7,
   "id": "26450440",
   "metadata": {},
   "outputs": [],
   "source": [
    "# write a function which will be able to print an index of list element without using index function"
   ]
  },
  {
   "cell_type": "code",
   "execution_count": 8,
   "id": "d108958c",
   "metadata": {},
   "outputs": [],
   "source": [
    "L = [1,2,3,4,\"sunny\", \"shashank\"]"
   ]
  },
  {
   "cell_type": "code",
   "execution_count": 9,
   "id": "b0974175",
   "metadata": {},
   "outputs": [
    {
     "data": {
      "text/plain": [
       "[1, 2, 3, 4, 'sunny', 'shashank']"
      ]
     },
     "execution_count": 9,
     "metadata": {},
     "output_type": "execute_result"
    }
   ],
   "source": [
    "L"
   ]
  },
  {
   "cell_type": "code",
   "execution_count": 10,
   "id": "03ad1fd9",
   "metadata": {},
   "outputs": [],
   "source": [
    "def test1(L):\n",
    "    for i in range(0, len(L)):\n",
    "        print(L[i], \": \", i)"
   ]
  },
  {
   "cell_type": "code",
   "execution_count": 11,
   "id": "a67cd4ff",
   "metadata": {},
   "outputs": [
    {
     "name": "stdout",
     "output_type": "stream",
     "text": [
      "1 :  0\n",
      "2 :  1\n",
      "3 :  2\n",
      "4 :  3\n",
      "sunny :  4\n",
      "shashank :  5\n"
     ]
    }
   ],
   "source": [
    "test1(L)"
   ]
  },
  {
   "cell_type": "code",
   "execution_count": 12,
   "id": "cb980651",
   "metadata": {},
   "outputs": [],
   "source": [
    "def test1(L):\n",
    "    # use our own len function\n",
    "    for i in range(0, test(L)): \n",
    "        print(L[i], \": \", i)"
   ]
  },
  {
   "cell_type": "code",
   "execution_count": 13,
   "id": "073bd2dd",
   "metadata": {},
   "outputs": [
    {
     "name": "stdout",
     "output_type": "stream",
     "text": [
      "1 :  0\n",
      "2 :  1\n",
      "3 :  2\n",
      "4 :  3\n",
      "sunny :  4\n",
      "shashank :  5\n"
     ]
    }
   ],
   "source": [
    "test1(L)"
   ]
  },
  {
   "cell_type": "code",
   "execution_count": 14,
   "id": "fe21d601",
   "metadata": {},
   "outputs": [],
   "source": [
    "# write a function will be able to print an IP address of your system"
   ]
  },
  {
   "cell_type": "code",
   "execution_count": 15,
   "id": "6bb62fc2",
   "metadata": {},
   "outputs": [],
   "source": [
    "import socket\n",
    "def test2():\n",
    "    ip = socket.gethostbyname(socket.gethostname())\n",
    "    return ip"
   ]
  },
  {
   "cell_type": "code",
   "execution_count": 16,
   "id": "8711db50",
   "metadata": {},
   "outputs": [
    {
     "data": {
      "text/plain": [
       "'192.168.1.10'"
      ]
     },
     "execution_count": 16,
     "metadata": {},
     "output_type": "execute_result"
    }
   ],
   "source": [
    "test2()"
   ]
  },
  {
   "cell_type": "code",
   "execution_count": 46,
   "id": "e4f35b57",
   "metadata": {},
   "outputs": [],
   "source": [
    "# write a function which will shutdown your system"
   ]
  },
  {
   "cell_type": "code",
   "execution_count": 47,
   "id": "9514861b",
   "metadata": {},
   "outputs": [],
   "source": [
    "import os\n",
    "os.system(\"shutdown /s /t 4\")\n",
    "\n",
    "# /s - shutdown\n",
    "# /r - restart\n",
    "# /t 4 - timer # 4 is time here i.e 4 seconds"
   ]
  },
  {
   "cell_type": "code",
   "execution_count": 17,
   "id": "61609c97",
   "metadata": {},
   "outputs": [],
   "source": [
    "# write a function which will take input as a list with any kind of numeric value and give an output as multiplication all numeric data\n",
    "l = [3.5, 6.56, 4, 5, \"sunny\", \"sss\", \"abc\"]"
   ]
  },
  {
   "cell_type": "code",
   "execution_count": 18,
   "id": "85d06365",
   "metadata": {},
   "outputs": [],
   "source": [
    "l = [3.5, 6.56, 4, 5, \"sunny\", \"sss\", \"abc\"]\n",
    "\n",
    "def test3(l):\n",
    "    mul = 1\n",
    "    for i in l:\n",
    "        # check for numeric data\n",
    "        if type(i) == int or type(i) == float:\n",
    "            mul = mul * i\n",
    "    return mul\n"
   ]
  },
  {
   "cell_type": "code",
   "execution_count": 19,
   "id": "65245551",
   "metadata": {},
   "outputs": [
    {
     "data": {
      "text/plain": [
       "459.19999999999993"
      ]
     },
     "execution_count": 19,
     "metadata": {},
     "output_type": "execute_result"
    }
   ],
   "source": [
    "test3(l)"
   ]
  },
  {
   "cell_type": "code",
   "execution_count": 20,
   "id": "23fd4616",
   "metadata": {},
   "outputs": [],
   "source": [
    "# write a function which will be able to read all the mails"
   ]
  },
  {
   "cell_type": "code",
   "execution_count": null,
   "id": "f36fcae0",
   "metadata": {},
   "outputs": [],
   "source": [
    "import smtplib\n",
    "import time\n",
    "import imaplib\n",
    "import email\n",
    "import traceback \n",
    "ORG_EMAIL = \"@gmail.com\" \n",
    "# Enter your email address\n",
    "FROM_EMAIL = 'email_address@gmail.com'\n",
    "# Enter your password\n",
    "FROM_PWD = 'password'\n",
    "SMTP_SERVER = \"imap.gmail.com\" \n",
    "SMTP_PORT = 993\n",
    "imaplib._MAXLINE = 400000000\n",
    "\n",
    "def read_email_from_gmail():\n",
    "    try:\n",
    "        mail = imaplib.IMAP4_SSL(SMTP_SERVER)\n",
    "        mail.login(FROM_EMAIL,FROM_PWD)\n",
    "        mail.select('inbox')\n",
    "\n",
    "        data = mail.search(None, 'ALL')\n",
    "        mail_ids = data[1]\n",
    "        id_list = mail_ids[0].split()   \n",
    "        first_email_id = int(id_list[0])\n",
    "        latest_email_id = int(id_list[-1])\n",
    "\n",
    "        for i in range(latest_email_id,first_email_id, -1):\n",
    "            data = mail.fetch(str(i), '(RFC822)' )\n",
    "            for response_part in data:\n",
    "                arr = response_part[0]\n",
    "                if isinstance(arr, tuple):\n",
    "                    msg = email.message_from_string(str(arr[1],'utf-8'))\n",
    "                    email_subject = msg['subject']\n",
    "                    email_from = msg['from']\n",
    "                    print('From : ' + email_from + '\\n')\n",
    "                    print('Subject : ' + email_subject + '\\n')\n",
    "\n",
    "    except Exception as e:\n",
    "        traceback.print_exc() \n",
    "        print(str(e))\n",
    "\n",
    "read_email_from_gmail()"
   ]
  },
  {
   "cell_type": "code",
   "execution_count": 22,
   "id": "2972205e",
   "metadata": {},
   "outputs": [],
   "source": [
    "# write a program which will be able to send a mail to anyone"
   ]
  },
  {
   "cell_type": "code",
   "execution_count": null,
   "id": "8649e7c8",
   "metadata": {},
   "outputs": [],
   "source": [
    "import smtplib, ssl # smtp protocol, ssl-secure serv\n",
    "port = 465  # For SSL\n",
    "#here you can use any server name like hotmail, yahoo, rediffmail\n",
    "smtp_server = \"smtp.gmail.com\"\n",
    "# Enter your email address\n",
    "sender_email = \"email_address@gmail.com\"\n",
    "# Enter receiver address [note: if you have multiple address, enter as list & iterate using for loop]\n",
    "receiver_email = \"email_address@gmail.com\" \n",
    "# Enter subject\n",
    "subject = \"Subject\"\n",
    "# Enter your Generated app password\n",
    "password = 'password' \n",
    "# enter message\n",
    "message = \"\"\"this is my message from python code\"\"\" \n",
    "\n",
    "context = ssl.create_default_context()\n",
    "\n",
    "with smtplib.SMTP_SSL(smtp_server, port, context=context) as server:\n",
    "    server.login(sender_email, password)\n",
    "    server.sendmail(sender_email, receiver_email, subject, message)"
   ]
  },
  {
   "cell_type": "code",
   "execution_count": null,
   "id": "9832b8c0",
   "metadata": {},
   "outputs": [],
   "source": [
    "# write a function which will be able to read a doc/word file from your system"
   ]
  },
  {
   "cell_type": "code",
   "execution_count": 4,
   "id": "c4eeb842",
   "metadata": {},
   "outputs": [],
   "source": [
    "import docx2txt\n",
    "a = docx2txt.process('filename.docx') #enter filename\n",
    "print(a) # print line by line"
   ]
  },
  {
   "cell_type": "code",
   "execution_count": null,
   "id": "3e33c2f9",
   "metadata": {},
   "outputs": [],
   "source": []
  },
  {
   "cell_type": "code",
   "execution_count": 30,
   "id": "016d8d2b",
   "metadata": {},
   "outputs": [],
   "source": [
    "def test0(a):\n",
    "    l = []\n",
    "    l1 = []\n",
    "    for i in range(0, len(a)):\n",
    "        l.append(a[i])\n",
    "        l1.append(i)\n",
    "    return l, l1"
   ]
  },
  {
   "cell_type": "code",
   "execution_count": 31,
   "id": "9b97fd28",
   "metadata": {},
   "outputs": [
    {
     "data": {
      "text/plain": [
       "(['s', 'u', 'n', 'n', 'y'], [0, 1, 2, 3, 4])"
      ]
     },
     "execution_count": 31,
     "metadata": {},
     "output_type": "execute_result"
    }
   ],
   "source": [
    "test0(\"sunny\")"
   ]
  },
  {
   "cell_type": "code",
   "execution_count": null,
   "id": "a114ff31",
   "metadata": {},
   "outputs": [],
   "source": []
  }
 ],
 "metadata": {
  "kernelspec": {
   "display_name": "Python 3 (ipykernel)",
   "language": "python",
   "name": "python3"
  },
  "language_info": {
   "codemirror_mode": {
    "name": "ipython",
    "version": 3
   },
   "file_extension": ".py",
   "mimetype": "text/x-python",
   "name": "python",
   "nbconvert_exporter": "python",
   "pygments_lexer": "ipython3",
   "version": "3.9.12"
  }
 },
 "nbformat": 4,
 "nbformat_minor": 5
}
